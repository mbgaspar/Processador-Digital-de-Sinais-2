{
 "cells": [
  {
   "cell_type": "markdown",
   "metadata": {},
   "source": [
    "INSTITUTO FEDERAL DE EDUCAÇÃO, CIÊNCIA E TECNOLOGIA DE SANTA CATARINA \\\n",
    "CAMPUS FLORIANÓPOLIS \\\n",
    "DEPARTAMENTO ACADÊMICO DE ELETRÔNICA \\\n",
    "ENGENHARIA ELETRÔNICA\n",
    "\n",
    "Estudante:\n"
   ]
  },
  {
   "cell_type": "markdown",
   "metadata": {},
   "source": [
    "# Atividade: Filtros em Imagens"
   ]
  },
  {
   "cell_type": "markdown",
   "metadata": {},
   "source": [
    "## Trabalhando com imagens pré-gravadas no computador\n",
    "\n",
    "### Filtros passa-baixas"
   ]
  },
  {
   "cell_type": "markdown",
   "metadata": {},
   "source": [
    "1. Vimos que para filtrar uma imagem, é necessário definir um *kernel*, que nada mais é que a resposta ao impulso do filtro. Considere a imagem [1]. Defina filtros passa-baixas (a) 3x3 e (b) 9x9. Você pode gerar manualmente a matriz (como no exemplo _Blur_ de [2]) ou usar um dos elementos estruturantes (*square*, *disk*, etc.) do módulo *morphology* do Skimage [3]. Filtre a imagem. A imagem é melhorada com esses filtros? Mostre os resultados."
   ]
  },
  {
   "cell_type": "markdown",
   "metadata": {},
   "source": [
    "2. Filtre a mesma imagem [1] com filtro de mediana [4]. A imagem é melhorada? Qual a influência do tamanho do filtro e do formato do elemento estruturante? O filtro de mediana é linear? Mostre os resultados."
   ]
  },
  {
   "cell_type": "markdown",
   "metadata": {},
   "source": [
    "### Filtros passa-altas"
   ]
  },
  {
   "cell_type": "markdown",
   "metadata": {},
   "source": [
    "4. Considere a imagem [5]. Procure melhorá-la (aguçar os contornos) usando um filtro linear. Você pode usar um filtro passa-altas (como no exemplo _Sharpening_ de [2]) ou a máscara *unsharp_mask* de `skimage.filters` [6]. Apresente os resultados."
   ]
  },
  {
   "cell_type": "markdown",
   "metadata": {},
   "source": [
    "## Usando imagens capturadas com ESP32-CAM\n",
    "Da mesma forma que nas atividades anteriores, iremos capturar imagens com a ESP32-CAM e processá-las em um cliente http usando OpenCV no Python.\n",
    "\n",
    "Então, a primeira parte é ter o servidor funcionando. Usaremos exatamente a mesma configuração da primeira atividade com a placa ESP32-CAM, disponível em https://github.com/fspacheco/esp32-cam/tree/main/ESP32-AP-CameraWebServer. Você pode observar no código em `app_httpd.cpp`, na função `startCameraServer()`, que existe um *uniform resource identifier* (URI) para **captura** de uma imagem, bastando apontar para http://192.168.4.1/capture e obtendo como retorno uma imagem no formato jpg."
   ]
  },
  {
   "cell_type": "code",
   "execution_count": null,
   "metadata": {},
   "outputs": [],
   "source": [
    "# adaptado de https://how2electronics.com/color-detection-tracking-with-esp32-cam-opencv/\n",
    "import cv2\n",
    "import urllib.request\n",
    "import numpy as np\n",
    " \n",
    "url='http://192.168.4.1/capture'\n",
    " \n",
    "while True:\n",
    "    img_resp=urllib.request.urlopen(url)\n",
    "    imgnp=np.array(bytearray(img_resp.read()),dtype=np.uint8)\n",
    "    frame=cv2.imdecode(imgnp,-1)\n",
    "    \n",
    "    cv2.imshow(\"Imagem capturada\", frame)\n",
    "    \n",
    "    gray = cv2.cvtColor(frame, cv2.COLOR_BGR2GRAY)\n",
    "    \n",
    "    cv2.imshow(\"Imagem em tons de cinza\", gray)\n",
    "    \n",
    "    k = cv2.waitKey(5) & 0xFF\n",
    "    if k == 27: # 27 - tecla ESC para sair\n",
    "        break\n",
    "\n",
    "# para gravar a última imagem, é só usar imwrite\n",
    "cv2.imwrite('imagem-capturada.jpg', frame)\n",
    "cv2.destroyAllWindows()\n",
    "print('Núm. de planos da imagem: ', frame.ndim)\n",
    "print('Dimensões da imagem: ', frame.shape)\n",
    "print('Dimensões da imagem em tons de cinza: ', gray.shape)"
   ]
  },
  {
   "cell_type": "markdown",
   "metadata": {},
   "source": [
    "5. Agora, a partir da imagem `gray`, use as funções `cv.filter2D` e `cv.mediamBlur` [7] para melhorar a imagem capturada. Apresente o código, imagens resultantes e comente.\n",
    "\n",
    "Inclua, aqui, um quadro capturado e o resultado. Para isso, você deve gravar as imagens com `imwrite` e incorporar o link com o código mostrado abaixo. Ao enviar seu relatório, inclua as imagens no pacote zip."
   ]
  },
  {
   "cell_type": "markdown",
   "metadata": {},
   "source": [
    "## Detecção de bordas (Opcional)"
   ]
  },
  {
   "cell_type": "markdown",
   "metadata": {},
   "source": [
    "5. Usando um kernel do tipo Sobel ou Canny, identifique as bordas da folha na imagem [8]. Mostre o resultado. Depois, aplique os mesmos parâmetros para a imagem [9]. As bordas são detectadas corretamente? É necessário ajustar os parâmetros?"
   ]
  },
  {
   "cell_type": "markdown",
   "metadata": {},
   "source": [
    "## Referências\n",
    "\n",
    "[1] hw3_train.jpg foi obtido de http://web.stanford.edu/class/ee368/Handouts/Homeworks/HW3/hw3_data.zip (link não está mais disponível; arquivo está em anexo)\n",
    "\n",
    "[2] https://www.codingame.com/playgrounds/2524/basic-image-manipulation/filtering\n",
    "\n",
    "[3] https://scikit-image.org/docs/dev/api/skimage.morphology.html\n",
    "\n",
    "[4] https://scikit-image.org/docs/dev/auto_examples/applications/plot_rank_filters.html#noise-removal\n",
    "\n",
    "[5] hw3_road_sign_school_blurry.jpg, obtido de http://web.stanford.edu/class/ee368/Handouts/Homeworks/HW3/hw3_data.zip (link não está mais disponível)\n",
    "\n",
    "[6] https://scikit-image.org/docs/dev/auto_examples/filters/plot_unsharp_mask.html\n",
    "\n",
    "[7] https://docs.opencv.org/4.x/d4/d13/tutorial_py_filtering.html\n",
    "\n",
    "[8] hw3_leaf_training_1.jpg, obtido de http://web.stanford.edu/class/ee368/Handouts/Homeworks/HW3/hw3_data.zip (link não está mais disponível)\n",
    "\n",
    "[9] hw3_leaf_training_4.jpg, obtido de http://web.stanford.edu/class/ee368/Handouts/Homeworks/HW3/hw3_data.zip (link não está mais disponível)"
   ]
  },
  {
   "cell_type": "markdown",
   "metadata": {},
   "source": [
    "## Bibliografia\n",
    "\n",
    "https://scikit-image.org/docs/dev/auto_examples/applications/plot_rank_filters.html#image-smoothing\n",
    "\n",
    "\n",
    "https://www.mathworks.com/help/images/what-is-image-filtering-in-the-spatial-domain.html\n",
    "\n",
    "https://www.mathworks.com/examples/image/mw/images-ex48835658-detect-edges-in-images\n",
    "\n",
    "https://www.mathworks.com/examples/image/mw/images-ex80028725-trace-boundaries-of-objects-in-images\n",
    "\n",
    "https://www.mathworks.com/help/images/ref/imfindcircles.html#examples\n",
    "\n",
    "https://www.mathworks.com/examples/image/community/18507-missing-planes"
   ]
  }
 ],
 "metadata": {
  "kernelspec": {
   "display_name": "Python 3",
   "language": "python",
   "name": "python3"
  },
  "language_info": {
   "codemirror_mode": {
    "name": "ipython",
    "version": 3
   },
   "file_extension": ".py",
   "mimetype": "text/x-python",
   "name": "python",
   "nbconvert_exporter": "python",
   "pygments_lexer": "ipython3",
   "version": "3.8.10"
  }
 },
 "nbformat": 4,
 "nbformat_minor": 2
}
