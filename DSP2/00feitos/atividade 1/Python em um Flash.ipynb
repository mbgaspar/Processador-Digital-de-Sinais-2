{
 "cells": [
  {
   "cell_type": "markdown",
   "metadata": {},
   "source": [
    "# Básico"
   ]
  },
  {
   "cell_type": "markdown",
   "metadata": {},
   "source": [
    "## Variáveis"
   ]
  },
  {
   "cell_type": "markdown",
   "metadata": {},
   "source": [
    "Variáveis não precisam de tipo. Strings podem ser concatenadas com +"
   ]
  },
  {
   "cell_type": "code",
   "execution_count": null,
   "metadata": {},
   "outputs": [],
   "source": [
    "ni = 4\n",
    "nf = 3.9\n",
    "print(ni,'\\t', nf)\n",
    "nome='ifsc'\n",
    "campus='florianópolis'\n",
    "completo = nome + ' ' + campus\n",
    "print(completo)"
   ]
  },
  {
   "cell_type": "markdown",
   "metadata": {},
   "source": [
    "## Condições e Laços"
   ]
  },
  {
   "cell_type": "code",
   "execution_count": null,
   "metadata": {},
   "outputs": [],
   "source": [
    "if (ni > 3):\n",
    "    print('ni maior que 3')\n",
    "for i in range(5):\n",
    "    print(i)"
   ]
  },
  {
   "cell_type": "markdown",
   "metadata": {},
   "source": [
    "# Estruturas de dados básicas"
   ]
  },
  {
   "cell_type": "markdown",
   "metadata": {},
   "source": [
    "## Listas"
   ]
  },
  {
   "cell_type": "code",
   "execution_count": null,
   "metadata": {},
   "outputs": [],
   "source": [
    "a=[3, 5, 2, 1]\n",
    "print(a)\n",
    "print('Primeiro elemento: ', a[0])\n",
    "for idx in range(len(a)):\n",
    "    print(idx, a[idx])"
   ]
  },
  {
   "cell_type": "code",
   "execution_count": null,
   "metadata": {},
   "outputs": [],
   "source": [
    "b=a*2\n",
    "print(b)"
   ]
  },
  {
   "cell_type": "markdown",
   "metadata": {},
   "source": [
    "## Dicionários"
   ]
  },
  {
   "cell_type": "code",
   "execution_count": null,
   "metadata": {},
   "outputs": [],
   "source": [
    "comida = {'abacaxi':'fruta', 'alface':'verdura'}\n",
    "comida['abacaxi']"
   ]
  },
  {
   "cell_type": "code",
   "execution_count": null,
   "metadata": {},
   "outputs": [],
   "source": [
    "dtmf = {0:{'f1':941,'f2':1336}, 1:{'f1':697,'f2':1209}}\n",
    "print(dtmf[1])\n",
    "print(dtmf[0]['f1'])"
   ]
  },
  {
   "cell_type": "markdown",
   "metadata": {},
   "source": [
    "# NumPy"
   ]
  },
  {
   "cell_type": "markdown",
   "metadata": {},
   "source": [
    "Fundamental para o trabalho em Processamento Digital de Sinais. Implementação de vetores (arrays) e matrizes"
   ]
  },
  {
   "cell_type": "code",
   "execution_count": null,
   "metadata": {},
   "outputs": [],
   "source": [
    "import numpy as np\n",
    "\n",
    "ar=np.array(a)\n",
    "print(ar)\n",
    "print(type(ar))\n",
    "print(ar.dtype)"
   ]
  },
  {
   "cell_type": "code",
   "execution_count": null,
   "metadata": {},
   "outputs": [],
   "source": [
    "print(type(a))"
   ]
  },
  {
   "cell_type": "code",
   "execution_count": null,
   "metadata": {},
   "outputs": [],
   "source": [
    "c=ar*2\n",
    "print(c)\n",
    "for item in c:\n",
    "    print(item)\n",
    "c[2]=37\n",
    "print(c)"
   ]
  },
  {
   "cell_type": "markdown",
   "metadata": {},
   "source": [
    "Comparação com Matlab em https://docs.scipy.org/doc/numpy/user/numpy-for-matlab-users.html"
   ]
  },
  {
   "cell_type": "markdown",
   "metadata": {},
   "source": [
    "# Exercício"
   ]
  },
  {
   "cell_type": "markdown",
   "metadata": {},
   "source": [
    "1. Crie um array com os valores de inteiros de 7 a 2 ([7, 6, 5, 4, 3, 2]).\n",
    "2. Mostre o tamanho do array.\n",
    "3. Mostre os elementos de 5 a 2 ([5, 4, 3, 2]).\n",
    "4. Mostre o último elemento.\n",
    "5. Mostre o primeiro elemento.\n",
    "6. Transponha o vetor.\n",
    "7. Crie um vetor z com 5 elementos zero.\n",
    "8. Crie um vetor u com 5 elementos um.\n",
    "9. Some z com u e coloque o resultado em um vetor w."
   ]
  }
 ],
 "metadata": {
  "kernelspec": {
   "display_name": "Python 3",
   "language": "python",
   "name": "python3"
  },
  "language_info": {
   "codemirror_mode": {
    "name": "ipython",
    "version": 3
   },
   "file_extension": ".py",
   "mimetype": "text/x-python",
   "name": "python",
   "nbconvert_exporter": "python",
   "pygments_lexer": "ipython3",
   "version": "3.8.5"
  }
 },
 "nbformat": 4,
 "nbformat_minor": 2
}
